{
 "cells": [
  {
   "cell_type": "code",
   "execution_count": 37,
   "id": "0caa754d",
   "metadata": {},
   "outputs": [
    {
     "name": "stdout",
     "output_type": "stream",
     "text": [
      "Defaulting to user installation because normal site-packages is not writeable\n",
      "Requirement already satisfied: warc in /home/mubarak/.local/lib/python3.8/site-packages (0.2.1)\n",
      "\u001b[33mWARNING: You are using pip version 21.3.1; however, version 22.0.4 is available.\n",
      "You should consider upgrading via the '/bin/python3 -m pip install --upgrade pip' command.\u001b[0m\n",
      "Note: you may need to restart the kernel to use updated packages.\n"
     ]
    }
   ],
   "source": [
    "%pip install warc"
   ]
  },
  {
   "cell_type": "code",
   "execution_count": 1,
   "id": "2a45e71c",
   "metadata": {},
   "outputs": [
    {
     "name": "stdout",
     "output_type": "stream",
     "text": [
      "Defaulting to user installation because normal site-packages is not writeable\n",
      "Requirement already satisfied: warcio in /home/mubarak/.local/lib/python3.8/site-packages (1.7.4)\n",
      "Requirement already satisfied: six in /usr/lib/python3/dist-packages (from warcio) (1.14.0)\n",
      "\u001b[33mWARNING: You are using pip version 21.3.1; however, version 22.0.4 is available.\n",
      "You should consider upgrading via the '/usr/bin/python3 -m pip install --upgrade pip' command.\u001b[0m\n",
      "Note: you may need to restart the kernel to use updated packages.\n"
     ]
    }
   ],
   "source": [
    "%pip install warcio"
   ]
  },
  {
   "cell_type": "code",
   "execution_count": 43,
   "id": "06b4c880",
   "metadata": {},
   "outputs": [
    {
     "name": "stdout",
     "output_type": "stream",
     "text": [
      "Defaulting to user installation because normal site-packages is not writeable\n",
      "\u001b[31mERROR: Could not find a version that satisfies the requirement StringIO (from versions: none)\u001b[0m\n",
      "\u001b[31mERROR: No matching distribution found for StringIO\u001b[0m\n",
      "\u001b[33mWARNING: You are using pip version 21.3.1; however, version 22.0.4 is available.\n",
      "You should consider upgrading via the '/usr/bin/python3 -m pip install --upgrade pip' command.\u001b[0m\n",
      "Note: you may need to restart the kernel to use updated packages.\n"
     ]
    }
   ],
   "source": [
    "%pip install StringIO"
   ]
  },
  {
   "cell_type": "code",
   "execution_count": 66,
   "id": "407cb272",
   "metadata": {},
   "outputs": [],
   "source": [
    "import boto3\n",
    "import warcio\n",
    "import gzip"
   ]
  },
  {
   "cell_type": "code",
   "execution_count": 64,
   "id": "36c26fbb",
   "metadata": {},
   "outputs": [],
   "source": [
    "s3 = boto3.client('s3')\n",
    "response = s3.get_object(Bucket='commoncrawl', Key='crawl-data/CC-MAIN-2022-05/wet.paths.gz')['Body']"
   ]
  },
  {
   "cell_type": "code",
   "execution_count": 65,
   "id": "bb22eabe",
   "metadata": {},
   "outputs": [],
   "source": [
    "with open('wet.paths', 'wb') as outFile:\n",
    "    outFile.write(gzip.decompress(response.read()))"
   ]
  },
  {
   "cell_type": "code",
   "execution_count": null,
   "id": "dafccf5a",
   "metadata": {},
   "outputs": [],
   "source": []
  },
  {
   "cell_type": "code",
   "execution_count": null,
   "id": "bf42c8df",
   "metadata": {},
   "outputs": [],
   "source": []
  },
  {
   "cell_type": "code",
   "execution_count": 63,
   "id": "17c7e868",
   "metadata": {},
   "outputs": [],
   "source": [
    "s3 = boto3.client('s3')\n",
    "with open('wet.paths.gz', 'wb') as f:\n",
    "    s3.download_fileobj('commoncrawl', 'crawl-data/CC-MAIN-2022-05/wet.paths.gz', f)"
   ]
  },
  {
   "cell_type": "code",
   "execution_count": null,
   "id": "1a0bd91c",
   "metadata": {},
   "outputs": [],
   "source": []
  },
  {
   "cell_type": "code",
   "execution_count": null,
   "id": "6007858d",
   "metadata": {},
   "outputs": [],
   "source": [
    "# To run: python just_text.py > text\n",
    "###\n",
    "#\n",
    "import warc\n",
    "\n",
    "# List any of the WARC files found in the data folder\n",
    "warc_files = glob('data/*.wet.gz')\n",
    "\n",
    "# Process each of the WARC files we found\n",
    "files_processed = 0\n",
    "for fn in warc_files:\n",
    "  f = warc.open(fn)\n",
    "  for record in f:\n",
    "    url = record.header.get('warc-target-uri', None)\n",
    "    if not url:\n",
    "      continue\n",
    "    text = record.payload.read()\n",
    "    #\n",
    "    print url\n",
    "    print text\n",
    "    print\n",
    "    print"
   ]
  }
 ],
 "metadata": {
  "kernelspec": {
   "display_name": "Python 3 (ipykernel)",
   "language": "python",
   "name": "python3"
  },
  "language_info": {
   "codemirror_mode": {
    "name": "ipython",
    "version": 3
   },
   "file_extension": ".py",
   "mimetype": "text/x-python",
   "name": "python",
   "nbconvert_exporter": "python",
   "pygments_lexer": "ipython3",
   "version": "3.8.10"
  }
 },
 "nbformat": 4,
 "nbformat_minor": 5
}
