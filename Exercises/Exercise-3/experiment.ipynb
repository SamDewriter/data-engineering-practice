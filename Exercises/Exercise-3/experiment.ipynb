{
 "cells": [
  {
   "cell_type": "code",
   "execution_count": 20,
   "id": "3dfee251",
   "metadata": {},
   "outputs": [
    {
     "name": "stdout",
     "output_type": "stream",
     "text": [
      "Defaulting to user installation because normal site-packages is not writeable\n",
      "Collecting warc\n",
      "  Downloading warc-0.2.1.tar.gz (18 kB)\n",
      "  Preparing metadata (setup.py) ... \u001b[?25ldone\n",
      "\u001b[?25hBuilding wheels for collected packages: warc\n",
      "  Building wheel for warc (setup.py) ... \u001b[?25ldone\n",
      "\u001b[?25h  Created wheel for warc: filename=warc-0.2.1-py3-none-any.whl size=21779 sha256=726f4d3f1a833695ad586d6b0d103421c2d3240d4d4fbf652aba3c7e7481ac33\n",
      "  Stored in directory: /home/mubarak/.cache/pip/wheels/fd/01/9b/9eb5c3ae3bfcdd64712ed90d47990ef8ccc20f0dacb14349b2\n",
      "Successfully built warc\n",
      "Installing collected packages: warc\n",
      "Successfully installed warc-0.2.1\n",
      "\u001b[33mWARNING: You are using pip version 21.3.1; however, version 22.0.4 is available.\n",
      "You should consider upgrading via the '/usr/bin/python3 -m pip install --upgrade pip' command.\u001b[0m\n"
     ]
    }
   ],
   "source": [
    "!pip install warc"
   ]
  },
  {
   "cell_type": "code",
   "execution_count": 35,
   "id": "d283994a",
   "metadata": {},
   "outputs": [],
   "source": [
    "import boto3"
   ]
  },
  {
   "cell_type": "code",
   "execution_count": 33,
   "id": "c56a9e0b",
   "metadata": {},
   "outputs": [],
   "source": [
    "s3 =boto3.client('s3')\n",
    "s3.download_file('commoncrawl', 'crawl-data/CC-MAIN-2022-05/wet.paths.gz', 'wet.paths.gz')"
   ]
  },
  {
   "cell_type": "code",
   "execution_count": 34,
   "id": "1d380357",
   "metadata": {},
   "outputs": [
    {
     "data": {
      "text/plain": [
       "<botocore.client.S3 at 0x7fed470a20d0>"
      ]
     },
     "execution_count": 34,
     "metadata": {},
     "output_type": "execute_result"
    }
   ],
   "source": []
  },
  {
   "cell_type": "code",
   "execution_count": 24,
   "id": "873095b5",
   "metadata": {},
   "outputs": [],
   "source": [
    "s3 = boto3.client('s3')\n",
    "with open('wet.paths.gz', 'wb') as f:\n",
    "    s3.download_fileobj('commoncrawl', 'crawl-data/CC-MAIN-2022-05/wet.paths.gz', f)"
   ]
  },
  {
   "cell_type": "code",
   "execution_count": 25,
   "id": "d0b2d065",
   "metadata": {},
   "outputs": [],
   "source": [
    "wet_files = glob('wet.paths.gz')"
   ]
  },
  {
   "cell_type": "code",
   "execution_count": 27,
   "id": "3c6a363e",
   "metadata": {},
   "outputs": [
    {
     "ename": "NameError",
     "evalue": "name 'warc' is not defined",
     "output_type": "error",
     "traceback": [
      "\u001b[0;31m---------------------------------------------------------------------------\u001b[0m",
      "\u001b[0;31mNameError\u001b[0m                                 Traceback (most recent call last)",
      "Input \u001b[0;32mIn [27]\u001b[0m, in \u001b[0;36m<module>\u001b[0;34m\u001b[0m\n\u001b[1;32m      1\u001b[0m \u001b[38;5;28;01mfor\u001b[39;00m fn \u001b[38;5;129;01min\u001b[39;00m wet_files:\n\u001b[0;32m----> 2\u001b[0m   f \u001b[38;5;241m=\u001b[39m \u001b[43mwarc\u001b[49m\u001b[38;5;241m.\u001b[39mopen(fn)\n\u001b[1;32m      3\u001b[0m   \u001b[38;5;28mprint\u001b[39m(f)\n",
      "\u001b[0;31mNameError\u001b[0m: name 'warc' is not defined"
     ]
    }
   ],
   "source": [
    "for fn in wet_files:\n",
    "  f = warc.open(fn)\n",
    "  print(f)"
   ]
  },
  {
   "cell_type": "code",
   "execution_count": null,
   "id": "a5b24728",
   "metadata": {},
   "outputs": [],
   "source": [
    "# To run: python just_text.py > text\n",
    "###\n",
    "#\n",
    "import warc\n",
    "\n",
    "# List any of the WARC files found in the data folder\n",
    "warc_files = glob('data/*.wet.gz')\n",
    "\n",
    "# Process each of the WARC files we found\n",
    "files_processed = 0\n",
    "for fn in warc_files:\n",
    "  f = warc.open(fn)\n",
    "  for record in f:\n",
    "    url = record.header.get('warc-target-uri', None)\n",
    "    if not url:\n",
    "      continue\n",
    "    text = record.payload.read()\n",
    "    #\n",
    "    print url\n",
    "    print text\n",
    "    print\n",
    "    print"
   ]
  }
 ],
 "metadata": {
  "kernelspec": {
   "display_name": "Python 3 (ipykernel)",
   "language": "python",
   "name": "python3"
  },
  "language_info": {
   "codemirror_mode": {
    "name": "ipython",
    "version": 3
   },
   "file_extension": ".py",
   "mimetype": "text/x-python",
   "name": "python",
   "nbconvert_exporter": "python",
   "pygments_lexer": "ipython3",
   "version": "3.8.10"
  }
 },
 "nbformat": 4,
 "nbformat_minor": 5
}
